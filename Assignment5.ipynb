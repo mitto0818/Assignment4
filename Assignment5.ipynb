{
 "cells": [
  {
   "cell_type": "markdown",
   "id": "1155b0d4-983d-4a15-82dc-dffa669567db",
   "metadata": {},
   "source": [
    "#3. 생일이 느린 순서로 10명의 친구를 출력하는 코드"
   ]
  },
  {
   "cell_type": "code",
   "execution_count": 9,
   "id": "4448054f-cce1-4f2d-a002-1b1394ac09dc",
   "metadata": {},
   "outputs": [
    {
     "name": "stdout",
     "output_type": "stream",
     "text": [
      "생일이 가장 늦은 순서대로 10명:\n",
      "홍서연: 2024-12-82\n",
      "신수민: 2005-12-30\n",
      "이서영: 2005-12-25\n",
      "강민주: 2005-12-14\n",
      "김민경: 2005-12-02\n",
      "이서영: 2005-11-12\n",
      "배시은: 2005-11-02\n",
      "김여원: 2005-10-31\n",
      "이서진: 2005-10-28\n",
      "서홍빈: 2005-10-24\n"
     ]
    }
   ],
   "source": [
    "import csv\n",
    "from heap import Heap\n",
    "\n",
    "def parse_date(date_str):\n",
    "    return int(date_str.replace('-', ''))\n",
    "\n",
    "heap = Heap()\n",
    "\n",
    "with open(\"birthday.csv\", encoding=\"utf-8\") as f:\n",
    "    reader = csv.reader(f)\n",
    "    next(reader)\n",
    "    for row in reader:\n",
    "        if row[2].strip() == '':\n",
    "            continue\n",
    "        birth = parse_date(row[2])\n",
    "        name = row[1]\n",
    "        heap.insert((birth, name))\n",
    "\n",
    "print(\"생일이 가장 늦은 순서대로 10명:\")\n",
    "for _ in range(10):\n",
    "    if heap.isEmpty():\n",
    "        break\n",
    "    birth, name = heap.deleteMax()\n",
    "    print(f\"{name}: {str(birth)[:4]}-{str(birth)[4:6]}-{str(birth)[6:]}\")"
   ]
  },
  {
   "cell_type": "markdown",
   "id": "1adaab23-ecb3-4b6a-a478-a83da053288c",
   "metadata": {},
   "source": [
    "#4. 같은 조의 친구들만 이름과 생년월일을 출력하는 코드"
   ]
  },
  {
   "cell_type": "code",
   "execution_count": 7,
   "id": "8a520a34-639d-4eb1-8606-5788eda79b00",
   "metadata": {},
   "outputs": [
    {
     "name": "stdout",
     "output_type": "stream",
     "text": [
      "우리 조원들의 생일 정보:\n",
      "김다연: 20030304\n",
      "김도경: 20050923\n",
      "김민영: 20040210\n",
      "김수련: 20030110\n",
      "김여원: 20051031\n",
      "김주영: 20000922\n",
      "김채린: 20050123\n",
      "안소형: 20031022\n",
      "오다현: 20020505\n",
      "윤서영: 20050519\n",
      "이진서: 20040327\n",
      "조예진: 20040509\n",
      "허재희: 20050621\n",
      "홍지연: 20050203\n"
     ]
    }
   ],
   "source": [
    "from CircularDoublyLinkedList import CircularDoublyLinkedList\n",
    "\n",
    "group_members = [\n",
    "    \"조예진\", \"김주영\", \"오다현\", \"이진서\", \"김여원\", \"김수련\", \"김민영\",\n",
    "    \"윤서영\", \"허재희\", \"김다연\", \"안소형\", \"주민진\", \"김도경\", \"홍지연\", \"김채린\"\n",
    "]\n",
    "\n",
    "def parse_csv_line(row):\n",
    "    return row[1], row[2]\n",
    "\n",
    "cdll = CircularDoublyLinkedList()\n",
    "\n",
    "import csv\n",
    "with open(\"birthday.csv\", encoding=\"utf-8\") as f:\n",
    "    reader = csv.reader(f)\n",
    "    next(reader)\n",
    "    for row in reader:\n",
    "        if row[2].strip() == \"\":\n",
    "            continue\n",
    "        name, birth = parse_csv_line(row)\n",
    "        cdll.append((name, birth))\n",
    "\n",
    "print(\"우리 조원들의 생일 정보:\")\n",
    "for item in cdll:\n",
    "    name, birth = item\n",
    "    if name in group_members:\n",
    "        print(f\"{name}: {birth}\")"
   ]
  },
  {
   "cell_type": "markdown",
   "id": "38359730-f317-486c-bee7-2cf932ea7c7c",
   "metadata": {},
   "source": [
    "#5. 교재 8장 우선 순위 큐 연습 문제 답\n",
    "\n",
    "\n",
    "1. 예\n",
    "-> 힙은 전체 정렬 구조가 아니기 때문에 더 깊은 곳에 있는 원소가 더 큰 값을 가질 수 있다.\n",
    "   \n",
    "2. 아니오\n",
    "-> A[n-1]은 힙의 마지막 위치일 뿐이므로, 항상 가장 작은 값이 위치 하지 않는다.\n",
    "\n",
    "3. n/2개\n",
    "-> A[0..n-1]이면, 인덱스 [n/2]부터 n-1까지는 리프 -> 스며내리기 생략\n",
    "\n",
    "4. 최선: O(1) -> 한 번의 비교 또는 교환만으로 끝나는 경우\n",
    "   최악: O(log n) -> 트리의 높이만큼 내려가야 하는 경우\n",
    "\n",
    "5. 예\n",
    "-> 1단계: 마지막 원소를 루트로 옮김 2단계: 마지막 원소 제거 3단계: 루트에서부터 percolateDown 실행\n",
    "\n",
    "6. (아래->위): O(n), (위->아래): O(n log n) 효율이 떨어짐.\n",
    "-> 힙은 리프 근처부터 percolateDown 해야 부분 힙이 만들어지고 점점 전체 힙이 완성된다. 위에서부터 percolateDown하면 아직 자식 노드가 정리 안 된 상태에서 비교하게 돼 효율이 떨어진다.\n",
    "\n",
    "7. (1) 마지막 위치에 새로운 원소 삽입 (2) 부모 노드와 비교하며 위로 percolateUp 반복"
   ]
  },
  {
   "cell_type": "markdown",
   "id": "13c51957-6702-4c8c-a4cb-105999860ffa",
   "metadata": {},
   "source": [
    "#6. LeetCode 703.Kth Largest Element in Stream 문제 정답"
   ]
  },
  {
   "cell_type": "code",
   "execution_count": 13,
   "id": "9ac1ed81-7174-43d0-a15b-3e2b94ad7cd5",
   "metadata": {},
   "outputs": [],
   "source": [
    "import heapq\n",
    "from typing import List\n",
    "\n",
    "class KthLargest:\n",
    "\n",
    "    def __init__(self, k: int, nums: List[int]):\n",
    "        self.k = k\n",
    "        self.heap = nums\n",
    "        heapq.heapify(self.heap)\n",
    "        while len(self.heap) > k:\n",
    "            heapq.heappop(self.heap)\n",
    "\n",
    "    def add(self, val: int) -> int:\n",
    "        heapq.heappush(self.heap, val)\n",
    "        if len(self.heap) > self.k:\n",
    "            heapq.heappop(self.heap)\n",
    "        return self.heap[0]"
   ]
  }
 ],
 "metadata": {
  "kernelspec": {
   "display_name": "Python 3 (ipykernel)",
   "language": "python",
   "name": "python3"
  },
  "language_info": {
   "codemirror_mode": {
    "name": "ipython",
    "version": 3
   },
   "file_extension": ".py",
   "mimetype": "text/x-python",
   "name": "python",
   "nbconvert_exporter": "python",
   "pygments_lexer": "ipython3",
   "version": "3.8.10"
  }
 },
 "nbformat": 4,
 "nbformat_minor": 5
}
